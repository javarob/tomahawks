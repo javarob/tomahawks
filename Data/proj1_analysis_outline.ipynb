{
 "cells": [
  {
   "cell_type": "code",
   "execution_count": null,
   "metadata": {},
   "outputs": [],
   "source": [
    "Tomahawks \n",
    "## Team Effort = (\n",
    ".group({Rob Chesser : Michael Bell : Adam Durar: Regina Foster})\n",
    ").style"
   ]
  },
  {
   "cell_type": "code",
   "execution_count": null,
   "metadata": {},
   "outputs": [],
   "source": []
  },
  {
   "cell_type": "code",
   "execution_count": null,
   "metadata": {},
   "outputs": [],
   "source": [
    "\n",
    "\n",
    "* Title Slide\n",
    "\n",
    "  * Include the name of the Project and Group Members\n",
    "\n",
    "* Motivation & Summary Slide\n",
    "\n",
    "  * Define the core message or hypothesis of your project.\n",
    "  * Describe the questions you asked, and _why_ you asked them\n",
    "  * Describe whether you were able to answer these questions to your satisfaction, and briefly summarize your findings\n",
    "\n",
    "\n",
    "\n",
    "\n",
    "\n",
    "\n",
    "\n",
    "\n"
   ]
  },
  {
   "cell_type": "code",
   "execution_count": null,
   "metadata": {},
   "outputs": [],
   "source": [
    "* Questions & Data\n",
    "\n",
    "  * Elaborate on the questions you asked, describing what kinds of data you needed to answer them, and where you found it\n"
   ]
  },
  {
   "cell_type": "code",
   "execution_count": null,
   "metadata": {},
   "outputs": [],
   "source": [
    "* Data Cleanup & Exploration\n",
    "\n",
    "  * Describe the exploration and cleanup process\n",
    "  * Discuss insights you had while exploring the data that you didn't anticipate\n",
    "  * Discuss any problems that arose after exploring the data, and how you resolved them\n",
    "  * Present and discuss interesting figures developed during exploration, ideally with the help of Jupyter Notebook\n"
   ]
  },
  {
   "cell_type": "code",
   "execution_count": null,
   "metadata": {},
   "outputs": [],
   "source": [
    "* Data Analysis\n",
    "\n",
    "  * Discuss the steps you took to analyze the data and answer each question you asked in your proposal\n",
    "  * Present and discuss interesting figures developed during analysis, ideally with the help of Jupyter Notebook\n"
   ]
  },
  {
   "cell_type": "code",
   "execution_count": null,
   "metadata": {},
   "outputs": [],
   "source": [
    "* Discussion\n",
    "\n",
    "  * Discuss your findings. Did you find what you expected to find? If not, why not? What inferences or general conclusions can you draw from your analysis?\n"
   ]
  },
  {
   "cell_type": "code",
   "execution_count": null,
   "metadata": {},
   "outputs": [],
   "source": [
    "* Post Mortem\n",
    "\n",
    "  * Discuss any difficulties that arose, and how you dealt with them\n",
    "  * Discuss any additional questions that came up, but which you didn't have time to answer: What would you research next, if you had two more weeks?\n"
   ]
  },
  {
   "cell_type": "code",
   "execution_count": null,
   "metadata": {},
   "outputs": [],
   "source": [
    "* Questions\n",
    "  * Open-floor Q&A with the audience"
   ]
  },
  {
   "cell_type": "code",
   "execution_count": null,
   "metadata": {},
   "outputs": [],
   "source": [
    "- - -\n",
    "\n",
    "## Copyright\n",
    "\n",
    "Coding Boot Camp © 2018. All Rights Reserved.\n"
   ]
  }
 ],
 "metadata": {
  "kernelspec": {
   "display_name": "Python 3",
   "language": "python",
   "name": "python3"
  },
  "language_info": {
   "codemirror_mode": {
    "name": "ipython",
    "version": 3
   },
   "file_extension": ".py",
   "mimetype": "text/x-python",
   "name": "python",
   "nbconvert_exporter": "python",
   "pygments_lexer": "ipython3",
   "version": "3.7.3"
  }
 },
 "nbformat": 4,
 "nbformat_minor": 2
}
