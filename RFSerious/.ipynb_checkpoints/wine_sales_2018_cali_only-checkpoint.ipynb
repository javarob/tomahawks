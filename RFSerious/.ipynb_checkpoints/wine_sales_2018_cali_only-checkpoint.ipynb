{
 "cells": [
  {
   "cell_type": "code",
   "execution_count": 1,
   "metadata": {},
   "outputs": [],
   "source": [
    "%matplotlib notebook\n",
    "import matplotlib.pyplot as plt\n",
    "import pandas as pd\n",
    "import numpy as np\n",
    "from random import sample"
   ]
  },
  {
   "cell_type": "code",
   "execution_count": 40,
   "metadata": {},
   "outputs": [
    {
     "data": {
      "text/html": [
       "<div>\n",
       "<style scoped>\n",
       "    .dataframe tbody tr th:only-of-type {\n",
       "        vertical-align: middle;\n",
       "    }\n",
       "\n",
       "    .dataframe tbody tr th {\n",
       "        vertical-align: top;\n",
       "    }\n",
       "\n",
       "    .dataframe thead th {\n",
       "        text-align: right;\n",
       "    }\n",
       "</style>\n",
       "<table border=\"1\" class=\"dataframe\">\n",
       "  <thead>\n",
       "    <tr style=\"text-align: right;\">\n",
       "      <th></th>\n",
       "      <th>Year</th>\n",
       "      <th>California Wine Shipments to All Markets in the U.S. and Abroad2</th>\n",
       "      <th>California Wine Shipments to the U.S. Market2</th>\n",
       "      <th>Estimated Retail Value of CA Wine to U.S.3</th>\n",
       "    </tr>\n",
       "  </thead>\n",
       "  <tbody>\n",
       "    <tr>\n",
       "      <th>0</th>\n",
       "      <td>2018</td>\n",
       "      <td>284.8</td>\n",
       "      <td>248.1</td>\n",
       "      <td>$40.2 billion</td>\n",
       "    </tr>\n",
       "    <tr>\n",
       "      <th>1</th>\n",
       "      <td>2017</td>\n",
       "      <td>280.5</td>\n",
       "      <td>241.8</td>\n",
       "      <td>$38.7 billion</td>\n",
       "    </tr>\n",
       "    <tr>\n",
       "      <th>2</th>\n",
       "      <td>2016</td>\n",
       "      <td>280.8</td>\n",
       "      <td>240.3</td>\n",
       "      <td>$37.1 billion</td>\n",
       "    </tr>\n",
       "    <tr>\n",
       "      <th>3</th>\n",
       "      <td>2015</td>\n",
       "      <td>279.4</td>\n",
       "      <td>234.8</td>\n",
       "      <td>$35.4 billion</td>\n",
       "    </tr>\n",
       "    <tr>\n",
       "      <th>4</th>\n",
       "      <td>2014</td>\n",
       "      <td>277.6</td>\n",
       "      <td>233.0</td>\n",
       "      <td>$33.8 billion</td>\n",
       "    </tr>\n",
       "  </tbody>\n",
       "</table>\n",
       "</div>"
      ],
      "text/plain": [
       "   Year  California Wine Shipments to All Markets in the U.S. and Abroad2  \\\n",
       "0  2018                                              284.8                  \n",
       "1  2017                                              280.5                  \n",
       "2  2016                                              280.8                  \n",
       "3  2015                                              279.4                  \n",
       "4  2014                                              277.6                  \n",
       "\n",
       "   California Wine Shipments to the U.S. Market2  \\\n",
       "0                                          248.1   \n",
       "1                                          241.8   \n",
       "2                                          240.3   \n",
       "3                                          234.8   \n",
       "4                                          233.0   \n",
       "\n",
       "  Estimated Retail Value of CA Wine to U.S.3  \n",
       "0                              $40.2 billion  \n",
       "1                              $38.7 billion  \n",
       "2                              $37.1 billion  \n",
       "3                              $35.4 billion  \n",
       "4                              $33.8 billion  "
      ]
     },
     "execution_count": 40,
     "metadata": {},
     "output_type": "execute_result"
    }
   ],
   "source": [
    "data = \"wine_sales_2018_cali_only.csv\"\n",
    "wine_sales = pd.read_csv(data)\n",
    "wine_sales.head()"
   ]
  },
  {
   "cell_type": "code",
   "execution_count": 41,
   "metadata": {},
   "outputs": [
    {
     "data": {
      "text/html": [
       "<div>\n",
       "<style scoped>\n",
       "    .dataframe tbody tr th:only-of-type {\n",
       "        vertical-align: middle;\n",
       "    }\n",
       "\n",
       "    .dataframe tbody tr th {\n",
       "        vertical-align: top;\n",
       "    }\n",
       "\n",
       "    .dataframe thead th {\n",
       "        text-align: right;\n",
       "    }\n",
       "</style>\n",
       "<table border=\"1\" class=\"dataframe\">\n",
       "  <thead>\n",
       "    <tr style=\"text-align: right;\">\n",
       "      <th></th>\n",
       "      <th>California Wine Shipments to All Markets in the U.S. and Abroad2</th>\n",
       "      <th>California Wine Shipments to the U.S. Market2</th>\n",
       "      <th>Estimated Retail Value of CA Wine to U.S.3</th>\n",
       "    </tr>\n",
       "    <tr>\n",
       "      <th>Year</th>\n",
       "      <th></th>\n",
       "      <th></th>\n",
       "      <th></th>\n",
       "    </tr>\n",
       "  </thead>\n",
       "  <tbody>\n",
       "    <tr>\n",
       "      <th>2018</th>\n",
       "      <td>284.8</td>\n",
       "      <td>248.1</td>\n",
       "      <td>$40.2 billion</td>\n",
       "    </tr>\n",
       "    <tr>\n",
       "      <th>2017</th>\n",
       "      <td>280.5</td>\n",
       "      <td>241.8</td>\n",
       "      <td>$38.7 billion</td>\n",
       "    </tr>\n",
       "    <tr>\n",
       "      <th>2016</th>\n",
       "      <td>280.8</td>\n",
       "      <td>240.3</td>\n",
       "      <td>$37.1 billion</td>\n",
       "    </tr>\n",
       "    <tr>\n",
       "      <th>2015</th>\n",
       "      <td>279.4</td>\n",
       "      <td>234.8</td>\n",
       "      <td>$35.4 billion</td>\n",
       "    </tr>\n",
       "    <tr>\n",
       "      <th>2014</th>\n",
       "      <td>277.6</td>\n",
       "      <td>233.0</td>\n",
       "      <td>$33.8 billion</td>\n",
       "    </tr>\n",
       "  </tbody>\n",
       "</table>\n",
       "</div>"
      ],
      "text/plain": [
       "      California Wine Shipments to All Markets in the U.S. and Abroad2  \\\n",
       "Year                                                                     \n",
       "2018                                              284.8                  \n",
       "2017                                              280.5                  \n",
       "2016                                              280.8                  \n",
       "2015                                              279.4                  \n",
       "2014                                              277.6                  \n",
       "\n",
       "      California Wine Shipments to the U.S. Market2  \\\n",
       "Year                                                  \n",
       "2018                                          248.1   \n",
       "2017                                          241.8   \n",
       "2016                                          240.3   \n",
       "2015                                          234.8   \n",
       "2014                                          233.0   \n",
       "\n",
       "     Estimated Retail Value of CA Wine to U.S.3  \n",
       "Year                                             \n",
       "2018                              $40.2 billion  \n",
       "2017                              $38.7 billion  \n",
       "2016                              $37.1 billion  \n",
       "2015                              $35.4 billion  \n",
       "2014                              $33.8 billion  "
      ]
     },
     "execution_count": 41,
     "metadata": {},
     "output_type": "execute_result"
    }
   ],
   "source": [
    "df=pd.DataFrame(wine_sales)\n",
    "df=df.set_index('Year')\n",
    "df.head()"
   ]
  },
  {
   "cell_type": "code",
   "execution_count": 42,
   "metadata": {},
   "outputs": [
    {
     "name": "stdout",
     "output_type": "stream",
     "text": [
      "California Wine Shipments to All Markets in the U.S. and Abroad2            284.8\n",
      "California Wine Shipments to the U.S. Market2                               248.1\n",
      "Estimated Retail Value of CA Wine to U.S.3                          $40.2 billion\n",
      "Name: 2018, dtype: object [6]\n"
     ]
    }
   ],
   "source": [
    "\n",
    "print(df.iloc[0],[6])"
   ]
  },
  {
   "cell_type": "code",
   "execution_count": 43,
   "metadata": {},
   "outputs": [
    {
     "data": {
      "text/plain": [
       "([<matplotlib.patches.Wedge at 0x1c0294c8358>,\n",
       "  <matplotlib.patches.Wedge at 0x1c02a4b4b70>,\n",
       "  <matplotlib.patches.Wedge at 0x1c02a4b45c0>],\n",
       " [Text(0.4099884625620273, -1.127789634890313, 'Table Wine'),\n",
       "  Text(-0.15014351906712523, 1.0897049709357758, 'Dessert Wine'),\n",
       "  Text(-0.6752162112804365, 0.8683795644901445, 'Sparkling Wine/Champagne')],\n",
       " [Text(0.2391599364945159, -0.6578772870193492, '83.3%'),\n",
       "  Text(-0.08189646494570467, 0.5943845296013323, '9.9%'),\n",
       "  Text(-0.36829975160751083, 0.47366158063098784, '6.7%')])"
      ]
     },
     "execution_count": 43,
     "metadata": {},
     "output_type": "execute_result"
    }
   ],
   "source": [
    "labels = [\"Table Wine\", \"Dessert Wine\", \"Sparkling Wine/Champagne\"]\n",
    "value =[338.7,40.4,27.4]\n",
    "total = [406.5]\n",
    "explode = (0.1, 0,0)\n",
    "colors = [\"maroon\", \"yellow\", \"lightcoral\", \"orange\" ]\n",
    "plt.pie(value, explode=explode, labels=labels, colors=colors,\n",
    "        autopct=\"%1.1f%%\", shadow=True, startangle=140)\n"
   ]
  },
  {
   "cell_type": "code",
   "execution_count": null,
   "metadata": {},
   "outputs": [],
   "source": []
  },
  {
   "cell_type": "code",
   "execution_count": 44,
   "metadata": {},
   "outputs": [],
   "source": [
    "plt.show()\n",
    "plt.savefig('wine_sales 2018.png')"
   ]
  },
  {
   "cell_type": "code",
   "execution_count": null,
   "metadata": {},
   "outputs": [],
   "source": []
  },
  {
   "cell_type": "code",
   "execution_count": null,
   "metadata": {},
   "outputs": [],
   "source": []
  },
  {
   "cell_type": "code",
   "execution_count": null,
   "metadata": {},
   "outputs": [],
   "source": []
  },
  {
   "cell_type": "code",
   "execution_count": null,
   "metadata": {},
   "outputs": [],
   "source": []
  }
 ],
 "metadata": {
  "kernelspec": {
   "display_name": "Python 3",
   "language": "python",
   "name": "python3"
  },
  "language_info": {
   "codemirror_mode": {
    "name": "ipython",
    "version": 3
   },
   "file_extension": ".py",
   "mimetype": "text/x-python",
   "name": "python",
   "nbconvert_exporter": "python",
   "pygments_lexer": "ipython3",
   "version": "3.7.3"
  }
 },
 "nbformat": 4,
 "nbformat_minor": 2
}
